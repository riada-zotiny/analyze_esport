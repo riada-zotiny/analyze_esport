{
 "cells": [
  {
   "cell_type": "markdown",
   "id": "ce3cddbc",
   "metadata": {},
   "source": [
    "# Analyse des données de curseur/clavier\n",
    "Dans ce projet, nous allons analyser la corrélation entre les mouvements du regard et ceux du curseur sur un écran d’ordinateur, afin de déterminer s’il existe une relation significative entre ces deux phénomènes. Pour ce faire, nous allons suivre plusieurs étapes essentielles dans le cadre d’un pipeline de traitement de données."
   ]
  },
  {
   "cell_type": "markdown",
   "id": "e40ca59d",
   "metadata": {},
   "source": [
    "## Partie 1 : Définition de problème \n",
    "\n",
    "Les données utilisées dans cette étude seront issues du script *recordMouseKeyboard.py*. Ce programme enregistre les mouvements de la souris, en capturant leur position sur un écran de résolution 1920x1080, ainsi que le moment exact de chaque action. Il calcule également le délai entre chaque action et identifie certains gestes effectués, comme les touches du clavier pressées ou les clics de souris. Tous ces enregistrements sont sauvegardés dans des fichiers au format JSON."
   ]
  },
  {
   "cell_type": "markdown",
   "id": "fbcebb90",
   "metadata": {},
   "source": [
    "## Partie 2 : Collecte des données\n",
    "\n",
    "La collecte des données a été réalisée dans la salle de manipulation, où auront lieu les futures passations pour les tests en situation de jeu. Nous avons distingué plusieurs types de tests déjà effectués :\n",
    "\n",
    "Test sur le jeu Counter-Strike 2\n",
    "Cette session a été réalisée avec Romuald. Nous avons joué une partie de Counter-Strike 2 tout en enregistrant les mouvements du curseur et les interactions clavier/souris.\n",
    "\n",
    "Test sur les éléments des fonctions exécutives\n",
    "Des exercices ciblés ont été mis en place afin d’évaluer certaines fonctions exécutives (comme l’inhibition, la flexibilité cognitive ou la mémoire de travail) à travers des tâches spécifiques, tout en enregistrant les données comportementales associées.\n"
   ]
  },
  {
   "cell_type": "markdown",
   "id": "1e3586f8",
   "metadata": {},
   "source": [
    "## Partie 3 : Préparation des données \n",
    "\n",
    "### Partie 3.1: Exploration des données\n",
    "\n",
    "Nous allons faire une lecture des données et observer certaines statisques pour pouvoir remarquer certaines trucs.\n"
   ]
  },
  {
   "cell_type": "code",
   "execution_count": 1,
   "id": "70940290",
   "metadata": {},
   "outputs": [
    {
     "name": "stdout",
     "output_type": "stream",
     "text": [
      "Données de test sur CS2 :\n",
      "  action     position  time_diff                  timestamp button  scroll  \\\n",
      "0   move  [1035, 593]   0.081133 2025-07-02 13:26:09.726553    NaN     NaN   \n",
      "1   move  [1035, 592]   0.081133 2025-07-02 13:26:09.730627    NaN     NaN   \n",
      "2   move  [1036, 592]   0.081133 2025-07-02 13:26:09.732617    NaN     NaN   \n",
      "3   move  [1036, 591]   0.081133 2025-07-02 13:26:09.737708    NaN     NaN   \n",
      "4   move  [1037, 591]   0.081133 2025-07-02 13:26:09.745573    NaN     NaN   \n",
      "\n",
      "   key event_type  \n",
      "0  NaN        NaN  \n",
      "1  NaN        NaN  \n",
      "2  NaN        NaN  \n",
      "3  NaN        NaN  \n",
      "4  NaN        NaN  \n",
      "\n",
      "Données de test sur Flan :\n",
      "  action     position  time_diff                  timestamp button  key  \\\n",
      "0   move  [1021, 599]   0.050626 2025-07-02 14:39:18.925149    NaN  NaN   \n",
      "1   move  [1020, 599]   0.050667 2025-07-02 14:39:19.215234    NaN  NaN   \n",
      "2   move  [1019, 599]   0.050667 2025-07-02 14:39:19.216939    NaN  NaN   \n",
      "3   move  [1018, 599]   0.050667 2025-07-02 14:39:19.218925    NaN  NaN   \n",
      "4   move  [1017, 598]   0.050667 2025-07-02 14:39:19.219940    NaN  NaN   \n",
      "\n",
      "  event_type  \n",
      "0        NaN  \n",
      "1        NaN  \n",
      "2        NaN  \n",
      "3        NaN  \n",
      "4        NaN  \n"
     ]
    }
   ],
   "source": [
    "import os\n",
    "import pandas as pd\n",
    "\n",
    "\n",
    "# test de jeu\n",
    "df_cs2 = pd.read_json(os.path.join(\"dataMouseKeybord\\\\test_Romuald_2025-07-02_13-26-08.json\"))\n",
    "\n",
    "# test des fonctions executives\n",
    "df_flan = pd.read_json(os.path.join(\"dataMouseKeybord\\\\test_romu_flAN_2025-07-02_14-39-14.json\"))\n",
    "df_corsi = pd.read_json(os.path.join(\"dataMouseKeybord\\\\test_romuald_corsi_2025-07-02_14-32-56.json\"))\n",
    "df_switch = pd.read_json(os.path.join(\"dataMouseKeybord\\\\test_romi_switching_2025-07-02_14-51-12.json\"))\n",
    "\n",
    "\n",
    "print(\"Données de test sur CS2 :\")\n",
    "print(df_cs2.head())\n",
    "print(\"\\nDonnées de test sur Flan :\")\n",
    "print(df_flan.head())"
   ]
  },
  {
   "cell_type": "code",
   "execution_count": 2,
   "id": "0d8fdb9e",
   "metadata": {},
   "outputs": [
    {
     "name": "stdout",
     "output_type": "stream",
     "text": [
      "\n",
      "Données de test sur Corsi :\n",
      "  action     position  time_diff                  timestamp button  key  \\\n",
      "0   move  [1018, 600]    0.05101 2025-07-02 14:33:12.313395    NaN  NaN   \n",
      "1   move  [1018, 599]    0.05101 2025-07-02 14:33:12.313924    NaN  NaN   \n",
      "2   move  [1018, 598]    0.05101 2025-07-02 14:33:12.317900    NaN  NaN   \n",
      "3   move  [1019, 598]    0.05101 2025-07-02 14:33:12.320144    NaN  NaN   \n",
      "4   move  [1019, 597]    0.05101 2025-07-02 14:33:12.320789    NaN  NaN   \n",
      "\n",
      "  event_type  \n",
      "0        NaN  \n",
      "1        NaN  \n",
      "2        NaN  \n",
      "3        NaN  \n",
      "4        NaN  \n",
      "\n",
      "Données de test sur Switching :\n",
      "  action     position  time_diff                  timestamp button  key  \\\n",
      "0   move  [1012, 590]   0.050458 2025-07-02 14:51:15.191444    NaN  NaN   \n",
      "1   move  [1011, 590]   0.050458 2025-07-02 14:51:15.195384    NaN  NaN   \n",
      "2   move  [1010, 590]   0.050458 2025-07-02 14:51:15.198000    NaN  NaN   \n",
      "3   move  [1009, 589]   0.050458 2025-07-02 14:51:15.200308    NaN  NaN   \n",
      "4   move  [1008, 589]   0.050458 2025-07-02 14:51:15.202965    NaN  NaN   \n",
      "\n",
      "  event_type  \n",
      "0        NaN  \n",
      "1        NaN  \n",
      "2        NaN  \n",
      "3        NaN  \n",
      "4        NaN  \n"
     ]
    }
   ],
   "source": [
    "print(\"\\nDonnées de test sur Corsi :\")\n",
    "print(df_corsi.head())\n",
    "print(\"\\nDonnées de test sur Switching :\")\n",
    "print(df_switch.head())"
   ]
  },
  {
   "cell_type": "code",
   "execution_count": 3,
   "id": "3513a8d8",
   "metadata": {},
   "outputs": [
    {
     "name": "stdout",
     "output_type": "stream",
     "text": [
      "Les colonnes de nos jeux d données sont :  \n",
      "\n",
      "Index(['action', 'position', 'time_diff', 'timestamp', 'button', 'scroll',\n",
      "       'key', 'event_type'],\n",
      "      dtype='object')\n"
     ]
    }
   ],
   "source": [
    "print(\"Les colonnes de nos jeux d données sont :  \\n\")\n",
    "print(df_cs2.columns)"
   ]
  },
  {
   "cell_type": "code",
   "execution_count": 4,
   "id": "9327baf4",
   "metadata": {},
   "outputs": [
    {
     "name": "stdout",
     "output_type": "stream",
     "text": [
      "Le nombre de lignes et de colonnes dans le jeu de données CS2 est :\n",
      "(233057, 8)\n",
      "Le nombre de lignes et de colonnes dans le jeu de données Flan est :\n",
      "(5823, 7)\n",
      "Le nombre de lignes et de colonnes dans le jeu de données Corsi est :\n",
      "(41195, 7)\n",
      "Le nombre de lignes et de colonnes dans le jeu de données Switching est :\n",
      "(4832, 7)\n"
     ]
    }
   ],
   "source": [
    "print(\"Le nombre de lignes et de colonnes dans le jeu de données CS2 est :\")\n",
    "print(df_cs2.shape)\n",
    "print(\"Le nombre de lignes et de colonnes dans le jeu de données Flan est :\")\n",
    "print(df_flan.shape)\n",
    "print(\"Le nombre de lignes et de colonnes dans le jeu de données Corsi est :\")\n",
    "print(df_corsi.shape)\n",
    "print(\"Le nombre de lignes et de colonnes dans le jeu de données Switching est :\")\n",
    "print(df_switch.shape)"
   ]
  },
  {
   "cell_type": "markdown",
   "id": "82deb79c",
   "metadata": {},
   "source": [
    "### Observation:\n",
    "\n",
    "Le nombre des lignes dans nos différents jeux des données et tout à fait comprehensibles. Durant le jeu nous avons manipulé plusieurs cliques et appui sur le clavier lorsque nous avons eu besoin de tirer sur la personne ou faire deplacer le personnage qu'on exploite."
   ]
  },
  {
   "cell_type": "code",
   "execution_count": 5,
   "id": "8009d21c",
   "metadata": {},
   "outputs": [
    {
     "name": "stdout",
     "output_type": "stream",
     "text": [
      "Types d'actions enregistrées pour le jeu des données CS2 :\n",
      "action\n",
      "move       228373\n",
      "key          4326\n",
      "press         143\n",
      "release       143\n",
      "scroll         72\n",
      "Name: count, dtype: int64\n",
      "Types d'actions enregistrées pour le jeu des données Corsi :\n",
      "action\n",
      "move       40942\n",
      "press         96\n",
      "release       96\n",
      "key           61\n",
      "Name: count, dtype: int64\n",
      "Types d'actions enregistrées pour le jeu des données Flan :\n",
      "action\n",
      "move       5449\n",
      "key         346\n",
      "press        14\n",
      "release      14\n",
      "Name: count, dtype: int64\n",
      "Types d'actions enregistrées pour le jeu des données Switching :\n",
      "action\n",
      "move       4526\n",
      "key         294\n",
      "press         6\n",
      "release       6\n",
      "Name: count, dtype: int64\n"
     ]
    }
   ],
   "source": [
    "print(\"Types d'actions enregistrées pour le jeu des données CS2 :\")\n",
    "print(df_cs2['action'].value_counts())\n",
    "print(\"Types d'actions enregistrées pour le jeu des données Corsi :\")\n",
    "print(df_corsi['action'].value_counts())   \n",
    "print(\"Types d'actions enregistrées pour le jeu des données Flan :\") \n",
    "print(df_flan['action'].value_counts())\n",
    "print(\"Types d'actions enregistrées pour le jeu des données Switching :\")\n",
    "print(df_switch['action'].value_counts())"
   ]
  },
  {
   "cell_type": "markdown",
   "id": "8107e181",
   "metadata": {},
   "source": [
    "En observant les données enregistrées pour chaque tâche, nous constatons logiquement que la majorité des actions correspondent à des mouvements de curseur (move), ce qui est cohérent avec l'utilisation continue de la souris dans tous les contextes testés.\n",
    "\n",
    "Dans le cas du jeu Counter-Strike 2, on remarque une utilisation intensive du clavier (key : 4326) ainsi que des clics de souris (press et release : 143 chacun), ce qui reflète la nature dynamique et interactive du jeu nécessitant des actions rapides et fréquentes.\n",
    "\n",
    "Concernant les tests exécutifs (Corsi, Flanker, Switching), bien que les mouvements de curseur restent dominants, on observe une présence non négligeable des entrées clavier, en particulier dans le test Flanker (key : 346) et Switching (key : 294), suggérant une sollicitation cognitive liée à la prise de décision ou au traitement d’instructions. Les clics de souris (press et release) sont également présents, mais en quantité bien moindre que dans le jeu CS2, ce qui correspond à des interactions ponctuelles typiques des protocoles de tests cognitifs.\n",
    "\n",
    "Ainsi, ces statistiques illustrent clairement la différence d’interaction entre un environnement de jeu immersif et des tâches expérimentales plus structurées.\n",
    "\n"
   ]
  },
  {
   "cell_type": "markdown",
   "id": "fe3d96a4",
   "metadata": {},
   "source": [
    "Voici les différents stats que nous constatons pour nos differents jeu des données\n"
   ]
  },
  {
   "cell_type": "code",
   "execution_count": 6,
   "id": "fccb379e",
   "metadata": {},
   "outputs": [
    {
     "name": "stdout",
     "output_type": "stream",
     "text": [
      "\n",
      "Statistiques pour le jeu de données CS2 :\n",
      "Total des enregistrements : 233057\n",
      "Nombre de mouvements : 228373\n",
      "Nombre de clics (press) : 143\n",
      "Nombre de relâchements (release) : 143\n",
      "Nombre de pressions de touches clavier : 4326\n",
      "Temps total (s) : 11503.726409911995\n",
      "Temps moyen entre mouvements (s) : 0.0503725326983137\n",
      "Position X - min : 1\n",
      "Position X - max : 1819\n",
      "Position X - moyenne : 953.2381936568684\n",
      "Position Y - min : 0\n",
      "Position Y - max : 1079\n",
      "Position Y - moyenne : 540.1479159094989\n"
     ]
    }
   ],
   "source": [
    "def statistics(df):\n",
    "    moves = df[df['action'] == 'move']\n",
    "    presses = df[df['action'] == 'press']\n",
    "    releases = df[df['action'] == 'release']\n",
    "    key_presses = df[df['action'] == 'key']\n",
    "\n",
    "    move_positions = moves['position'].apply(pd.Series)\n",
    "    move_positions.columns = ['x', 'y']\n",
    "\n",
    "    stats = {\n",
    "        \"Total des enregistrements\": len(df),\n",
    "        \"Nombre de mouvements\": len(moves),\n",
    "        \"Nombre de clics (press)\": len(presses),\n",
    "        \"Nombre de relâchements (release)\": len(releases),\n",
    "        \"Nombre de pressions de touches clavier\": len(key_presses),\n",
    "        \"Temps total (s)\": moves['time_diff'].sum(),\n",
    "        \"Temps moyen entre mouvements (s)\": moves['time_diff'].mean(),\n",
    "        \"Position X - min\": move_positions['x'].min(),\n",
    "        \"Position X - max\": move_positions['x'].max(),\n",
    "        \"Position X - moyenne\": move_positions['x'].mean(),\n",
    "        \"Position Y - min\": move_positions['y'].min(),\n",
    "        \"Position Y - max\": move_positions['y'].max(),\n",
    "    \"Position Y - moyenne\": move_positions['y'].mean(),\n",
    "    }\n",
    "\n",
    "\n",
    "    return stats\n",
    "\n",
    "\n",
    "stats_cs2 = statistics(df_cs2)\n",
    "stats_flan = statistics(df_flan)\n",
    "stats_corsi = statistics(df_corsi)\n",
    "stats_switch = statistics(df_switch)\n",
    "\n",
    "\n",
    "# Affichage\n",
    "print(\"\\nStatistiques pour le jeu de données CS2 :\")\n",
    "for k, v in stats_cs2.items():\n",
    "    print(f\"{k} : {v}\")\n",
    "\n"
   ]
  },
  {
   "cell_type": "code",
   "execution_count": 7,
   "id": "955ac39b",
   "metadata": {},
   "outputs": [
    {
     "name": "stdout",
     "output_type": "stream",
     "text": [
      "\n",
      "Statistiques pour le jeu de données Flan :\n",
      "Total des enregistrements : 5823\n",
      "Nombre de mouvements : 5449\n",
      "Nombre de clics (press) : 14\n",
      "Nombre de relâchements (release) : 14\n",
      "Nombre de pressions de touches clavier : 346\n",
      "Temps total (s) : 274.37979888915737\n",
      "Temps moyen entre mouvements (s) : 0.05035415652214303\n",
      "Position X - min : 286\n",
      "Position X - max : 1919\n",
      "Position X - moyenne : 862.2844558634612\n",
      "Position Y - min : 154\n",
      "Position Y - max : 1079\n",
      "Position Y - moyenne : 487.7258212516058\n"
     ]
    }
   ],
   "source": [
    "print(\"\\nStatistiques pour le jeu de données Flan :\")\n",
    "for k, v in stats_flan.items():    \n",
    "    print(f\"{k} : {v}\")\n"
   ]
  },
  {
   "cell_type": "code",
   "execution_count": 8,
   "id": "3a904639",
   "metadata": {},
   "outputs": [
    {
     "name": "stdout",
     "output_type": "stream",
     "text": [
      "\n",
      "Statistiques pour le jeu de données Corsi :\n",
      "Total des enregistrements : 41195\n",
      "Nombre de mouvements : 40942\n",
      "Nombre de clics (press) : 96\n",
      "Nombre de relâchements (release) : 96\n",
      "Nombre de pressions de touches clavier : 61\n",
      "Temps total (s) : 2065.5332052707463\n",
      "Temps moyen entre mouvements (s) : 0.0504502272793402\n",
      "Position X - min : 222\n",
      "Position X - max : 1895\n",
      "Position X - moyenne : 1021.0846074935274\n",
      "Position Y - min : 25\n",
      "Position Y - max : 1079\n",
      "Position Y - moyenne : 547.0666796932246\n"
     ]
    }
   ],
   "source": [
    "print(\"\\nStatistiques pour le jeu de données Corsi :\")\n",
    "for k, v in stats_corsi.items():    \n",
    "    print(f\"{k} : {v}\")\n",
    "\n",
    "   "
   ]
  },
  {
   "cell_type": "code",
   "execution_count": 9,
   "id": "88baa59a",
   "metadata": {},
   "outputs": [
    {
     "name": "stdout",
     "output_type": "stream",
     "text": [
      "\n",
      "Statistiques pour le jeu de données Switching :\n",
      "Total des enregistrements : 4832\n",
      "Nombre de mouvements : 4526\n",
      "Nombre de clics (press) : 6\n",
      "Nombre de relâchements (release) : 6\n",
      "Nombre de pressions de touches clavier : 294\n",
      "Temps total (s) : 228.1920340061165\n",
      "Temps moyen entre mouvements (s) : 0.05041803667832888\n",
      "Position X - min : 245\n",
      "Position X - max : 1919\n",
      "Position X - moyenne : 917.8583738400354\n",
      "Position Y - min : 78\n",
      "Position Y - max : 1079\n",
      "Position Y - moyenne : 531.9403446752099\n"
     ]
    }
   ],
   "source": [
    "print(\"\\nStatistiques pour le jeu de données Switching :\")\n",
    "for k, v in stats_switch.items():   \n",
    "    print(f\"{k} : {v}\") "
   ]
  },
  {
   "cell_type": "markdown",
   "id": "57123fa8",
   "metadata": {},
   "source": [
    "## Observations sur les statistiques des jeux de données\n",
    "\n",
    "### 1. Nombre total d’enregistrements et de mouvements\n",
    "\n",
    "- **Counter-Strike 2 (CS2)** présente un volume de données très élevé (233 057 enregistrements, dont 228 373 mouvements), ce qui reflète une activité constante et intense typique d’un jeu en temps réel.\n",
    "- Les tests cognitifs (*Corsi*, *Flan*, *Switching*) présentent un volume de données bien inférieur, cohérent avec des durées plus courtes et des interactions plus ponctuelles :\n",
    "  - *Corsi* : 40 942 mouvements\n",
    "  - *Flanker* : 5 449 mouvements\n",
    "  - *Switching* : 4 526 mouvements\n",
    "\n",
    "### 2. Fréquence des mouvements\n",
    "\n",
    "- Le **temps moyen entre deux mouvements** est similaire dans tous les jeux de données (environ 0,050 seconde), ce qui suggère une fréquence d’échantillonnage régulière et contrôlée, probablement dictée par le système d’enregistrement.\n",
    "\n",
    "### 3. Utilisation du clavier\n",
    "\n",
    "- **CS2** montre une utilisation très intensive du clavier (4 326 pressions), ce qui correspond à la richesse des commandes dans un FPS.\n",
    "- *Flanker* (346) et *Switching* (294) présentent également une activité clavier notable, liée aux réponses demandées lors des tâches cognitives.\n",
    "- *Corsi* affiche très peu d’interactions clavier (61), probablement car il repose davantage sur des interactions visuo-spatiales.\n",
    "\n",
    "### 4. Clics de souris (press/release)\n",
    "\n",
    "- **CS2** contient un grand nombre de clics de souris (143 pressions et 143 relâchements), ce qui correspond aux actions de tir ou d’interaction dans le jeu.\n",
    "- Les tests cognitifs présentent beaucoup moins de clics :\n",
    "  - *Corsi* : 96\n",
    "  - *Flanker* : 14\n",
    "  - *Switching* : 6\n",
    "\n",
    "### 5. Position du curseur (coordonnées X/Y)\n",
    "\n",
    "- **Horizontalement (X)** : les positions s’étendent jusqu’à la largeur maximale de l’écran (1920 px), avec une moyenne située autour du centre :\n",
    "  - Moyenne X : entre 862 (*Flanker*) et 1 021 (*Corsi*)\n",
    "- **Verticalement (Y)** : toutes les données couvrent l’écran jusqu’à 1080 px, avec une moyenne autour du centre :\n",
    "  - Moyenne Y : entre 487 (*Flanker*) et 547 (*Corsi*)\n",
    "\n",
    "\n",
    "---\n",
    "\n",
    "### Résumé comparatif des jeux de données\n",
    "\n",
    "| Élément                  | CS2         | Corsi       | Flanker     | Switching   |\n",
    "|--------------------------|-------------|-------------|-------------|-------------|\n",
    "| Enregistrements totaux   | 233 057     | 41 195      | 5 823       | 4 832       |\n",
    "| Mouvements (*move*)      | 228 373     | 40 942      | 5 449       | 4 526       |\n",
    "| Pressions clavier (*key*)| 4 326       | 61          | 346         | 294         |\n",
    "| Clics souris (*press*)   | 143         | 96          | 14          | 6           |\n",
    "| Relâchements (*release*) | 143         | 96          | 14          | 6           |\n",
    "| Temps total (s)          | 11 503      | 2 065       | 274         | 228         |\n",
    "| Moyenne X                | 953         | 1 021       | 862         | 918         |\n",
    "| Moyenne Y                | 540         | 547         | 488         | 532         |\n",
    "\n",
    "Faut faitre attention à la durée comme nous avons manqué une modification lorsque nous avons calculés certaines statistiques\n",
    "\n"
   ]
  },
  {
   "cell_type": "markdown",
   "id": "7d51cc1b",
   "metadata": {},
   "source": [
    "Nous allons finaliser par voir quels types de variables nous avons dans chaque colonnes"
   ]
  },
  {
   "cell_type": "code",
   "execution_count": 10,
   "id": "d28460ba",
   "metadata": {},
   "outputs": [
    {
     "name": "stdout",
     "output_type": "stream",
     "text": [
      "\n",
      "Types de variables :\n",
      "action                object\n",
      "position              object\n",
      "time_diff            float64\n",
      "timestamp     datetime64[ns]\n",
      "button                object\n",
      "scroll               float64\n",
      "key                   object\n",
      "event_type            object\n",
      "dtype: object\n"
     ]
    }
   ],
   "source": [
    "print(f\"\\nTypes de variables :\")\n",
    "print(df_cs2.dtypes)"
   ]
  },
  {
   "cell_type": "markdown",
   "id": "ab99eddc",
   "metadata": {},
   "source": [
    "### Partie 3.2: Traitement des données\n",
    "\n",
    "Par suite, avant d'approfondir l'analyse nous allons effectuer un pretraitement ou nous allons nettoyer les données et ajuster certaines variables.\n"
   ]
  },
  {
   "cell_type": "code",
   "execution_count": 11,
   "id": "4b0f3adc",
   "metadata": {},
   "outputs": [
    {
     "name": "stderr",
     "output_type": "stream",
     "text": [
      "C:\\Users\\amaly\\AppData\\Local\\Temp\\ipykernel_20904\\3057127959.py:15: FutureWarning: A value is trying to be set on a copy of a DataFrame or Series through chained assignment using an inplace method.\n",
      "The behavior will change in pandas 3.0. This inplace method will never work because the intermediate object on which we are setting values always behaves as a copy.\n",
      "\n",
      "For example, when doing 'df[col].method(value, inplace=True)', try using 'df.method({col: value}, inplace=True)' or df[col] = df[col].method(value) instead, to perform the operation inplace on the original object.\n",
      "\n",
      "\n",
      "  df[col].fillna(\"inconnu\", inplace=True)\n",
      "C:\\Users\\amaly\\AppData\\Local\\Temp\\ipykernel_20904\\3057127959.py:11: FutureWarning: A value is trying to be set on a copy of a DataFrame or Series through chained assignment using an inplace method.\n",
      "The behavior will change in pandas 3.0. This inplace method will never work because the intermediate object on which we are setting values always behaves as a copy.\n",
      "\n",
      "For example, when doing 'df[col].method(value, inplace=True)', try using 'df.method({col: value}, inplace=True)' or df[col] = df[col].method(value) instead, to perform the operation inplace on the original object.\n",
      "\n",
      "\n",
      "  df[col].fillna(df[col].mean(), inplace=True)\n"
     ]
    }
   ],
   "source": [
    "import pandas as pd\n",
    "import numpy as np\n",
    "from sklearn.preprocessing import MinMaxScaler\n",
    "\n",
    "\n",
    "def traiter_valeurs_manquantes(df, strategy='mean'):\n",
    "    for col in df.columns:\n",
    "        if df[col].isnull().any():\n",
    "            if df[col].dtype in [np.float64, np.int64]:\n",
    "                if strategy == 'mean':\n",
    "                    df[col].fillna(df[col].mean(), inplace=True)\n",
    "                elif strategy == 'median':\n",
    "                    df[col].fillna(df[col].median(), inplace=True)\n",
    "            else:\n",
    "                df[col].fillna(\"inconnu\", inplace=True)\n",
    "    return df\n",
    "\n",
    "\n",
    "df_cs2_cleaned = traiter_valeurs_manquantes(df_cs2)\n",
    "df_flan_clean = traiter_valeurs_manquantes(df_flan)\n",
    "df_corsi_clean = traiter_valeurs_manquantes(df_corsi)\n",
    "df_switch_clean = traiter_valeurs_manquantes(df_switch)"
   ]
  },
  {
   "cell_type": "code",
   "execution_count": 13,
   "id": "e8137e75",
   "metadata": {},
   "outputs": [
    {
     "data": {
      "text/html": [
       "<div>\n",
       "<style scoped>\n",
       "    .dataframe tbody tr th:only-of-type {\n",
       "        vertical-align: middle;\n",
       "    }\n",
       "\n",
       "    .dataframe tbody tr th {\n",
       "        vertical-align: top;\n",
       "    }\n",
       "\n",
       "    .dataframe thead th {\n",
       "        text-align: right;\n",
       "    }\n",
       "</style>\n",
       "<table border=\"1\" class=\"dataframe\">\n",
       "  <thead>\n",
       "    <tr style=\"text-align: right;\">\n",
       "      <th></th>\n",
       "      <th>action</th>\n",
       "      <th>position</th>\n",
       "      <th>time_diff</th>\n",
       "      <th>timestamp</th>\n",
       "      <th>button</th>\n",
       "      <th>scroll</th>\n",
       "      <th>key</th>\n",
       "      <th>event_type</th>\n",
       "    </tr>\n",
       "  </thead>\n",
       "  <tbody>\n",
       "    <tr>\n",
       "      <th>0</th>\n",
       "      <td>move</td>\n",
       "      <td>[1035, 593]</td>\n",
       "      <td>0.081133</td>\n",
       "      <td>2025-07-02 13:26:09.726553</td>\n",
       "      <td>inconnu</td>\n",
       "      <td>0.0</td>\n",
       "      <td>inconnu</td>\n",
       "      <td>inconnu</td>\n",
       "    </tr>\n",
       "    <tr>\n",
       "      <th>1</th>\n",
       "      <td>move</td>\n",
       "      <td>[1035, 592]</td>\n",
       "      <td>0.081133</td>\n",
       "      <td>2025-07-02 13:26:09.730627</td>\n",
       "      <td>inconnu</td>\n",
       "      <td>0.0</td>\n",
       "      <td>inconnu</td>\n",
       "      <td>inconnu</td>\n",
       "    </tr>\n",
       "    <tr>\n",
       "      <th>2</th>\n",
       "      <td>move</td>\n",
       "      <td>[1036, 592]</td>\n",
       "      <td>0.081133</td>\n",
       "      <td>2025-07-02 13:26:09.732617</td>\n",
       "      <td>inconnu</td>\n",
       "      <td>0.0</td>\n",
       "      <td>inconnu</td>\n",
       "      <td>inconnu</td>\n",
       "    </tr>\n",
       "    <tr>\n",
       "      <th>3</th>\n",
       "      <td>move</td>\n",
       "      <td>[1036, 591]</td>\n",
       "      <td>0.081133</td>\n",
       "      <td>2025-07-02 13:26:09.737708</td>\n",
       "      <td>inconnu</td>\n",
       "      <td>0.0</td>\n",
       "      <td>inconnu</td>\n",
       "      <td>inconnu</td>\n",
       "    </tr>\n",
       "    <tr>\n",
       "      <th>4</th>\n",
       "      <td>move</td>\n",
       "      <td>[1037, 591]</td>\n",
       "      <td>0.081133</td>\n",
       "      <td>2025-07-02 13:26:09.745573</td>\n",
       "      <td>inconnu</td>\n",
       "      <td>0.0</td>\n",
       "      <td>inconnu</td>\n",
       "      <td>inconnu</td>\n",
       "    </tr>\n",
       "  </tbody>\n",
       "</table>\n",
       "</div>"
      ],
      "text/plain": [
       "  action     position  time_diff                  timestamp   button  scroll  \\\n",
       "0   move  [1035, 593]   0.081133 2025-07-02 13:26:09.726553  inconnu     0.0   \n",
       "1   move  [1035, 592]   0.081133 2025-07-02 13:26:09.730627  inconnu     0.0   \n",
       "2   move  [1036, 592]   0.081133 2025-07-02 13:26:09.732617  inconnu     0.0   \n",
       "3   move  [1036, 591]   0.081133 2025-07-02 13:26:09.737708  inconnu     0.0   \n",
       "4   move  [1037, 591]   0.081133 2025-07-02 13:26:09.745573  inconnu     0.0   \n",
       "\n",
       "       key event_type  \n",
       "0  inconnu    inconnu  \n",
       "1  inconnu    inconnu  \n",
       "2  inconnu    inconnu  \n",
       "3  inconnu    inconnu  \n",
       "4  inconnu    inconnu  "
      ]
     },
     "execution_count": 13,
     "metadata": {},
     "output_type": "execute_result"
    }
   ],
   "source": [
    "df_cs2_cleaned.head()"
   ]
  },
  {
   "cell_type": "markdown",
   "id": "72c5c36a",
   "metadata": {},
   "source": [
    "Pour avoir un ecart entre les actions plus exacte, nous allons faire une modification dans la colonne time_diff où nous avons ajouter 0.05. Et ajuster les positions pour analyse plus tard s'il y a une erreur"
   ]
  },
  {
   "cell_type": "code",
   "execution_count": 12,
   "id": "4d46c4ec",
   "metadata": {},
   "outputs": [],
   "source": [
    "\n",
    "df_cs2['time_diff'] = df_cs2['time_diff'] - 0.05\n",
    "df_flan['time_diff'] = df_flan['time_diff'] - 0.05\n",
    "df_corsi['time_diff'] = df_corsi['time_diff'] - 0.05\n",
    "df_switch['time_diff'] = df_switch['time_diff'] - 0.05\n"
   ]
  },
  {
   "cell_type": "code",
   "execution_count": 13,
   "id": "fe0ed1f4",
   "metadata": {},
   "outputs": [],
   "source": [
    "def adjust_postions(df):\n",
    "    df['position'] = df['position'].apply(\n",
    "        lambda x: x if isinstance(x, list) and len(x) == 2 else [None, None]\n",
    "    )\n",
    "    df[['x', 'y']] = pd.DataFrame(df['position'].tolist(), index=df.index)\n",
    "    return df   \n",
    "\n",
    "df_cs2 = adjust_postions(df_cs2)\n",
    "df_flan = adjust_postions(df_flan)\n",
    "df_corsi = adjust_postions(df_corsi)\n",
    "df_switch = adjust_postions(df_switch)"
   ]
  },
  {
   "cell_type": "markdown",
   "id": "84bd0320",
   "metadata": {},
   "source": [
    "Enfin, pour faciliter un analyse ulterieure, nous allons rajouter une colonne dans notre dataframe en fonction de durée de l'enregistrement, nous allons donner un temps exact lors une action était effectuée. Par exemple le premier clique par la souris a debuté à 1 min et 45 secondes après que notre enregistrement est lancé."
   ]
  },
  {
   "cell_type": "code",
   "execution_count": 14,
   "id": "25d0b4b3",
   "metadata": {},
   "outputs": [],
   "source": [
    "import pandas as pd\n",
    "\n",
    "def add_elapsed_time(df, timestamp_col='timestamp', new_col='elapsed_time'):\n",
    "\n",
    "    df = df.copy()  \n",
    "\n",
    "    if not pd.api.types.is_datetime64_any_dtype(df[timestamp_col]):\n",
    "        df[timestamp_col] = pd.to_datetime(df[timestamp_col])\n",
    "\n",
    "    start_time = df[timestamp_col].iloc[0]\n",
    "    df[new_col] = (df[timestamp_col] - start_time).dt.total_seconds()\n",
    "\n",
    "    return df\n",
    "\n",
    "\n",
    "df_flan = add_elapsed_time(df_flan, timestamp_col='timestamp', new_col='elapsed_time')\n",
    "df_corsi = add_elapsed_time(df_corsi, timestamp_col='timestamp', new_col='elapsed_time')\n",
    "df_switch = add_elapsed_time(df_switch, timestamp_col='timestamp', new_col='elapsed_time')\n",
    "df_cs2 = add_elapsed_time(df_cs2, timestamp_col='timestamp', new_col='elapsed_time')\n",
    "\n",
    "def format_elapsed(t):\n",
    "    minutes = int(t // 60)\n",
    "    secondes = int(t % 60)\n",
    "    millis = int((t - int(t)) * 1000)\n",
    "    return f\"{minutes:02d}:{secondes:02d}:{millis:03d}\"\n",
    "\n",
    "df_flan['elapsed_formatted'] = df_flan['elapsed_time'].apply(format_elapsed)\n",
    "df_corsi['elapsed_formatted'] = df_corsi['elapsed_time'].apply(format_elapsed)\n",
    "df_switch['elapsed_formatted'] = df_switch['elapsed_time'].apply(format_elapsed)\n",
    "df_cs2['elapsed_formatted'] = df_cs2['elapsed_time'].apply(format_elapsed)\n",
    "\n",
    "df_flan = df_flan.drop('elapsed_time', axis=1)\n",
    "df_corsi = df_corsi.drop('elapsed_time', axis=1)\n",
    "df_switch = df_switch.drop('elapsed_time', axis=1)\n",
    "df_cs2 =  df_cs2.drop('elapsed_time', axis=1)"
   ]
  },
  {
   "cell_type": "markdown",
   "id": "3392302f",
   "metadata": {},
   "source": [
    "Aussi il sera interessant de voir les différentes durées d'activités pour chaque test les comparer avec celui enregistré par Tobii."
   ]
  },
  {
   "cell_type": "code",
   "execution_count": 15,
   "id": "fa7c143c",
   "metadata": {},
   "outputs": [
    {
     "name": "stdout",
     "output_type": "stream",
     "text": [
      "\n",
      "Durée d'activité pour le jeu de données CS2 :  {'début': '13h26', 'fin': '13h50', 'durée': '24 min 4 s'}\n",
      "\n",
      "Durée d'activité pour le jeu de données Flan :  {'début': '14h39', 'fin': '14h50', 'durée': '10 min 43 s'}\n",
      "\n",
      "Durée d'activité pour le jeu de données Corsi :  {'début': '14h33', 'fin': '14h37', 'durée': '4 min 17 s'}\n",
      "\n",
      "Durée d'activité pour le jeu de données Switching :  {'début': '14h51', 'fin': '14h58', 'durée': '7 min 40 s'}\n"
     ]
    }
   ],
   "source": [
    "def duree_activite_df(df):\n",
    "    if df.empty or 'timestamp' not in df.columns:\n",
    "        return \"DataFrame vide ou colonne 'timestamp' manquante.\"\n",
    "\n",
    "    if not pd.api.types.is_datetime64_any_dtype(df['timestamp']):\n",
    "        df['timestamp'] = pd.to_datetime(df['timestamp'])\n",
    "\n",
    "    debut = df['timestamp'].iloc[0]\n",
    "    fin = df['timestamp'].iloc[-1]\n",
    "    duree = fin - debut\n",
    "    total_seconds = int(duree.total_seconds())\n",
    "    minutes = total_seconds // 60\n",
    "    secondes = total_seconds % 60\n",
    "\n",
    "    return {\n",
    "        \"début\": debut.strftime(\"%Hh%M\"),\n",
    "        \"fin\": fin.strftime(\"%Hh%M\"),\n",
    "        \"durée\": f\"{minutes} min {secondes} s\"\n",
    "    }\n",
    "\n",
    "\n",
    "\n",
    "duree_cs2 = duree_activite_df(df_cs2)\n",
    "duree_flan = duree_activite_df(df_flan) \n",
    "duree_corsi = duree_activite_df(df_corsi)\n",
    "duree_switch = duree_activite_df(df_switch)\n",
    "\n",
    "print(\"\\nDurée d'activité pour le jeu de données CS2 : \", duree_cs2)\n",
    "print(\"\\nDurée d'activité pour le jeu de données Flan : \", duree_flan)\n",
    "print(\"\\nDurée d'activité pour le jeu de données Corsi : \", duree_corsi)\n",
    "print(\"\\nDurée d'activité pour le jeu de données Switching : \", duree_switch)      "
   ]
  },
  {
   "cell_type": "markdown",
   "id": "d05b46e0",
   "metadata": {},
   "source": [
    "## Partie 4 : Analyse des données \n",
    "\n"
   ]
  },
  {
   "cell_type": "markdown",
   "id": "d80b04cf",
   "metadata": {},
   "source": [
    "Pour faciliter l'analyse ultérieure, nous avons mis en place une fonction permettant de découper les données en fonction d'une plage temporelle choisie.\n",
    "Nous commençons ensuite par une analyse sous forme de heatmap des zones où la souris est le plus fréquemment positionnée à l’écran.\n",
    "Cependant, avant cela, il est nécessaire d’identifier précisément la période durant laquelle le jeu était effectivement en cours."
   ]
  },
  {
   "cell_type": "code",
   "execution_count": 18,
   "id": "75525bd5",
   "metadata": {},
   "outputs": [],
   "source": [
    "def couper_df_par_duree(df, minutes=0, secondes=0, couper_debut=True):\n",
    "\n",
    "    if df.empty or 'timestamp' not in df.columns:\n",
    "        raise ValueError(\"DataFrame vide ou colonne 'timestamp' manquante.\")\n",
    "\n",
    "    if not pd.api.types.is_datetime64_any_dtype(df['timestamp']):\n",
    "        df['timestamp'] = pd.to_datetime(df['timestamp'])\n",
    "\n",
    "    duree = pd.Timedelta(minutes=minutes, seconds=secondes)\n",
    "    debut = df['timestamp'].min()\n",
    "    fin = df['timestamp'].max()\n",
    "\n",
    "    if couper_debut:\n",
    "        seuil = debut + duree\n",
    "        return df[df['timestamp'] >= seuil].reset_index(drop=True)\n",
    "    else:\n",
    "        seuil = fin - duree\n",
    "        return df[df['timestamp'] <= seuil].reset_index(drop=True)"
   ]
  },
  {
   "cell_type": "code",
   "execution_count": 19,
   "id": "46e4cf7a",
   "metadata": {},
   "outputs": [],
   "source": [
    "import seaborn as sns\n",
    "import matplotlib.pyplot as plt\n",
    "\n",
    "\n",
    "def heatmap(df, titre):\n",
    "    mouse_clicks = df[df['action'] == 'press'] \n",
    "    plt.figure(figsize=(10, 6))\n",
    "    if not mouse_clicks.empty:\n",
    "        sns.kdeplot(x=mouse_clicks['x'], y=mouse_clicks['y'], fill=True, cmap=\"viridis\", thresh=0.05)\n",
    "        plt.title(\"Heatmap des positions du curseur lors des clics souris pour \" + titre)\n",
    "        plt.xlabel(\"Position X\")\n",
    "        plt.ylabel(\"Position Y\")\n",
    "        plt.xlim(0, 1920)\n",
    "        plt.ylim(0, 1080)\n",
    "        plt.show()\n",
    "    else:\n",
    "        print(\"Aucun clic souris à afficher pour la heatmap.\")\n",
    "\n",
    "def scanpath(df):\n",
    "    clicks = df[(df['action'] == 'press') & (df['button'] == 'Button.left')]\n",
    "    scan_points = []\n",
    "    for _, row in clicks.iterrows():\n",
    "        if isinstance(row['position'], list) and len(row['position']) == 2:\n",
    "            scan_points.append({'x': row['x'], 'y': row['y'], 'timestamp': row['timestamp']})\n",
    "\n",
    "    scan_df = pd.DataFrame(scan_points)\n",
    "\n",
    "    if not scan_df.empty:\n",
    "        plt.figure(figsize=(10, 6))\n",
    "        plt.plot(scan_df['x'], scan_df['y'], marker='o', linestyle='-', markersize=6)\n",
    "        plt.gca().invert_yaxis()  \n",
    "        plt.title(\"Scan Path des clics gauche (origine en haut à gauche)\")\n",
    "        plt.xlabel(\"Position X\")\n",
    "        plt.ylabel(\"Position Y\")\n",
    "        plt.xlim(0, 1920)\n",
    "        plt.ylim(0, 1080)\n",
    "        plt.grid(True)\n",
    "        plt.tight_layout()\n",
    "        plt.show()\n",
    "    else:\n",
    "        print(\"Pas assez de clics gauche pour générer un scan path (au moins 5 nécessaires).\")\n"
   ]
  },
  {
   "cell_type": "markdown",
   "id": "acf79821",
   "metadata": {},
   "source": [
    "### Analyse de test de flan :\n"
   ]
  },
  {
   "cell_type": "markdown",
   "id": "52f41510",
   "metadata": {},
   "source": [
    "Dans le cadre du test Flanker, l’analyse spatiale du regard ne sera pas prioritaire. En revanche, nous nous intéresserons principalement à la dimension temporelle, en comparant le moment des réactions oculaires avec celui des pressions sur le clavier. "
   ]
  },
  {
   "cell_type": "code",
   "execution_count": 20,
   "id": "8a03f218",
   "metadata": {},
   "outputs": [
    {
     "name": "stdout",
     "output_type": "stream",
     "text": [
      "10 premières actions de test de flan :\n",
      "                    timestamp     key elapsed_formatted\n",
      "2  2025-07-02 14:41:31.333946  droite         02:12:408\n",
      "4  2025-07-02 14:41:34.787902  gauche         02:15:862\n",
      "6  2025-07-02 14:41:39.571161  gauche         02:20:646\n",
      "8  2025-07-02 14:41:43.693993  gauche         02:24:768\n",
      "10 2025-07-02 14:41:47.234914  gauche         02:28:309\n",
      "12 2025-07-02 14:41:51.523193  droite         02:32:598\n",
      "14 2025-07-02 14:41:55.587233  droite         02:36:662\n",
      "16 2025-07-02 14:42:00.797078  droite         02:41:871\n",
      "18 2025-07-02 14:42:04.825361  droite         02:45:900\n",
      "20 2025-07-02 14:42:08.021124  droite         02:49:095\n",
      "\n",
      "10 dernières actions de test de flan :\n",
      "                     timestamp     key elapsed_formatted\n",
      "222 2025-07-02 14:49:06.701268  gauche         09:47:776\n",
      "224 2025-07-02 14:49:10.725599  gauche         09:51:800\n",
      "226 2025-07-02 14:49:14.279015  gauche         09:55:353\n",
      "228 2025-07-02 14:49:19.639088  droite         10:00:713\n",
      "230 2025-07-02 14:49:23.664143  gauche         10:04:738\n",
      "232 2025-07-02 14:49:27.372142  droite         10:08:446\n",
      "234 2025-07-02 14:49:31.594058  droite         10:12:668\n",
      "236 2025-07-02 14:49:35.792161  droite         10:16:867\n",
      "238 2025-07-02 14:49:39.646854  droite         10:20:721\n",
      "240 2025-07-02 14:49:44.336990  gauche         10:25:411\n"
     ]
    }
   ],
   "source": [
    "df_flan = couper_df_par_duree(df_flan, minutes=2, secondes=8, couper_debut=True)\n",
    "df_flan_key_down = df_flan[\n",
    "\t(df_flan['action'] == 'key') &\n",
    "\t(df_flan['event_type'] == 'down') &\n",
    "\t((df_flan['key'] == 'droite') | (df_flan['key'] == 'gauche'))\n",
    "].copy()\n",
    "\n",
    "\n",
    "print(\"10 premières actions de test de flan :\")\n",
    "print(df_flan_key_down[['timestamp', 'key', 'elapsed_formatted']].head(10))\n",
    "\n",
    "print(\"\\n10 dernières actions de test de flan :\")\n",
    "print(df_flan_key_down[['timestamp', 'key', 'elapsed_formatted']].tail(10))"
   ]
  },
  {
   "cell_type": "markdown",
   "id": "d6481f05",
   "metadata": {},
   "source": [
    "### Analyse spatiale de test de switching :\n"
   ]
  },
  {
   "cell_type": "markdown",
   "id": "ce948132",
   "metadata": {},
   "source": [
    "De manière similaire au test Flanker, l’analyse du test Switching se concentrera principalement sur l’aspect temporel plutôt que spatial. L’objectif est d’observer si les pressions clavier coïncident avec des réactions détectables au niveau du regard.\n"
   ]
  },
  {
   "cell_type": "code",
   "execution_count": 21,
   "id": "9e3933c7",
   "metadata": {},
   "outputs": [
    {
     "name": "stdout",
     "output_type": "stream",
     "text": [
      "10 premières actions de test de switch :\n",
      "                    timestamp     key elapsed_formatted\n",
      "0  2025-07-02 14:53:34.439752  gauche         02:19:248\n",
      "2  2025-07-02 14:53:37.177515  droite         02:21:986\n",
      "4  2025-07-02 14:53:40.067937  droite         02:24:876\n",
      "6  2025-07-02 14:53:42.975259  gauche         02:27:783\n",
      "8  2025-07-02 14:53:45.725005  droite         02:30:533\n",
      "10 2025-07-02 14:53:48.545303  droite         02:33:353\n",
      "12 2025-07-02 14:53:51.458429  droite         02:36:266\n",
      "14 2025-07-02 14:53:54.229315  gauche         02:39:037\n",
      "16 2025-07-02 14:53:56.903280  gauche         02:41:711\n",
      "18 2025-07-02 14:53:59.723540  gauche         02:44:532\n",
      "\n",
      "10 dernières actions de test de switch :\n",
      "                     timestamp     key elapsed_formatted\n",
      "204 2025-07-02 14:58:17.079969  gauche         07:01:888\n",
      "206 2025-07-02 14:58:19.796850  droite         07:04:605\n",
      "208 2025-07-02 14:58:22.452846  gauche         07:07:261\n",
      "210 2025-07-02 14:58:25.179305  droite         07:09:987\n",
      "212 2025-07-02 14:58:27.841120  gauche         07:12:649\n",
      "214 2025-07-02 14:58:30.788871  droite         07:15:597\n",
      "216 2025-07-02 14:58:33.432350  gauche         07:18:240\n",
      "218 2025-07-02 14:58:36.359183  droite         07:21:167\n",
      "220 2025-07-02 14:58:39.027167  droite         07:23:835\n",
      "222 2025-07-02 14:58:41.853162  gauche         07:26:661\n"
     ]
    }
   ],
   "source": [
    "df_switch = couper_df_par_duree(df_switch, minutes=2, secondes=17, couper_debut=True)\n",
    "\n",
    "\n",
    "df_switch_key_down = df_switch[\n",
    "\t(df_switch['action'] == 'key') &\n",
    "\t(df_switch['event_type'] == 'down') &\n",
    "\t((df_switch['key'] == 'droite') | (df_switch['key'] == 'gauche'))\n",
    "].copy()\n",
    "\n",
    "\n",
    "print(\"10 premières actions de test de switch :\")\n",
    "print(df_switch_key_down[['timestamp', 'key', 'elapsed_formatted']].head(10))\n",
    "\n",
    "print(\"\\n10 dernières actions de test de switch :\")\n",
    "print(df_switch_key_down[['timestamp', 'key', 'elapsed_formatted']].tail(10))"
   ]
  },
  {
   "cell_type": "markdown",
   "id": "d5a3b466",
   "metadata": {},
   "source": [
    "### Analyse de test de corsi :\n"
   ]
  },
  {
   "cell_type": "markdown",
   "id": "7a06a797",
   "metadata": {},
   "source": [
    "Pour le test de Corsi, nous allons nous intéresser à 10 intervalles de temps sur lesquels nous effectuons une analyse à la fois spatiale et temporelle.\n",
    "Ces 10 intervalles correspondent aux 5 premières actions et aux 5 dernières."
   ]
  },
  {
   "cell_type": "markdown",
   "id": "2aec42f9",
   "metadata": {},
   "source": [
    "## Les 5 premieres intervalles :"
   ]
  },
  {
   "cell_type": "code",
   "execution_count": 37,
   "id": "65ac2e0f",
   "metadata": {},
   "outputs": [],
   "source": [
    "df_corsi_debut = couper_df_par_duree(df_corsi, minutes=1, secondes=37.099, couper_debut=True)\n",
    "df_corsi_fin = couper_df_par_duree(df_corsi, minutes=1, secondes=40.640, couper_debut=True)\n",
    "\n",
    "df_corsi_1 = pd.concat([df_corsi_debut, df_corsi_fin]).drop_duplicates(subset=['timestamp', 'key', 'event_type'], keep=False)\n"
   ]
  },
  {
   "cell_type": "code",
   "execution_count": 28,
   "id": "d795251a",
   "metadata": {},
   "outputs": [],
   "source": [
    "df_corsi_debut = couper_df_par_duree(df_corsi, minutes=1, secondes=44.605, couper_debut=True)\n",
    "df_corsi_fin = couper_df_par_duree(df_corsi, minutes=1, secondes=48.702, couper_debut=True)\n",
    "df_corsi_2 = pd.concat([df_corsi_debut, df_corsi_fin]).drop_duplicates(subset=['timestamp', 'key', 'event_type'], keep=False)"
   ]
  },
  {
   "cell_type": "code",
   "execution_count": 29,
   "id": "1ec68819",
   "metadata": {},
   "outputs": [],
   "source": [
    "df_corsi_debut = couper_df_par_duree(df_corsi, minutes=1, secondes=53.107, couper_debut=True)\n",
    "df_corsi_fin = couper_df_par_duree(df_corsi, minutes=1, secondes=58.903, couper_debut=True)\n",
    "df_corsi_3 = pd.concat([df_corsi_debut, df_corsi_fin]).drop_duplicates(subset=['timestamp', 'key', 'event_type'], keep=False)"
   ]
  },
  {
   "cell_type": "code",
   "execution_count": 30,
   "id": "f3ccd64f",
   "metadata": {},
   "outputs": [],
   "source": [
    "df_corsi_debut = couper_df_par_duree(df_corsi, minutes=2, secondes=2.718, couper_debut=True)\n",
    "df_corsi_fin = couper_df_par_duree(df_corsi, minutes=2, secondes=13.541, couper_debut=True)\n",
    "df_corsi_4 = pd.concat([df_corsi_debut, df_corsi_fin]).drop_duplicates(subset=['timestamp', 'key', 'event_type'], keep=False)"
   ]
  },
  {
   "cell_type": "code",
   "execution_count": 31,
   "id": "df4fd17b",
   "metadata": {},
   "outputs": [],
   "source": [
    "df_corsi_debut = couper_df_par_duree(df_corsi, minutes=2, secondes=17.676, couper_debut=True)\n",
    "df_corsi_fin = couper_df_par_duree(df_corsi, minutes=2, secondes=26.740, couper_debut=True)\n",
    "df_corsi_5 = pd.concat([df_corsi_debut, df_corsi_fin]).drop_duplicates(subset=['timestamp', 'key', 'event_type'], keep=False)"
   ]
  },
  {
   "cell_type": "markdown",
   "id": "b1c5c177",
   "metadata": {},
   "source": [
    "## Les 5 dernieres intervalles"
   ]
  },
  {
   "cell_type": "code",
   "execution_count": 32,
   "id": "ee1f963a",
   "metadata": {},
   "outputs": [],
   "source": [
    "df_corsi_debut = couper_df_par_duree(df_corsi, minutes=2, secondes=29.605, couper_debut=True)\n",
    "df_corsi_fin = couper_df_par_duree(df_corsi, minutes=2, secondes=37.927, couper_debut=True)\n",
    "df_corsi_6 = pd.concat([df_corsi_debut, df_corsi_fin]).drop_duplicates(subset=['timestamp', 'key', 'event_type'], keep=False)\n"
   ]
  },
  {
   "cell_type": "code",
   "execution_count": 33,
   "id": "c9f5bc77",
   "metadata": {},
   "outputs": [],
   "source": [
    "df_corsi_debut = couper_df_par_duree(df_corsi, minutes=2, secondes=41.798, couper_debut=True)\n",
    "df_corsi_fin = couper_df_par_duree(df_corsi, minutes=2, secondes=49.346, couper_debut=True)\n",
    "df_corsi_7 = pd.concat([df_corsi_debut, df_corsi_fin]).drop_duplicates(subset=['timestamp', 'key', 'event_type'], keep=False)\n"
   ]
  },
  {
   "cell_type": "code",
   "execution_count": 34,
   "id": "c1808346",
   "metadata": {},
   "outputs": [],
   "source": [
    "df_corsi_debut = couper_df_par_duree(df_corsi, minutes=2, secondes=53.556, couper_debut=True)\n",
    "df_corsi_fin = couper_df_par_duree(df_corsi, minutes=3, secondes=4.442, couper_debut=True)\n",
    "df_corsi_8 = pd.concat([df_corsi_debut, df_corsi_fin]).drop_duplicates(subset=['timestamp', 'key', 'event_type'], keep=False)\n"
   ]
  },
  {
   "cell_type": "code",
   "execution_count": 35,
   "id": "6dc9551a",
   "metadata": {},
   "outputs": [],
   "source": [
    "df_corsi_debut = couper_df_par_duree(df_corsi, minutes=3, secondes=8.312, couper_debut=True)\n",
    "df_corsi_fin = couper_df_par_duree(df_corsi, minutes=3, secondes=17.700, couper_debut=True)\n",
    "df_corsi_9 = pd.concat([df_corsi_debut, df_corsi_fin]).drop_duplicates(subset=['timestamp', 'key', 'event_type'], keep=False)\n"
   ]
  },
  {
   "cell_type": "code",
   "execution_count": 36,
   "id": "5f9a3267",
   "metadata": {},
   "outputs": [],
   "source": [
    "df_corsi_debut = couper_df_par_duree(df_corsi, minutes=3, secondes=21.273, couper_debut=True)\n",
    "df_corsi_fin = couper_df_par_duree(df_corsi, minutes=3, secondes=30.182, couper_debut=True)\n",
    "df_corsi_10 = pd.concat([df_corsi_debut, df_corsi_fin]).drop_duplicates(subset=['timestamp', 'key', 'event_type'], keep=False)\n"
   ]
  },
  {
   "cell_type": "markdown",
   "id": "4d012f84",
   "metadata": {},
   "source": [
    "### Analyse spatiale de test de CS2 à different intervalle de temps :\n"
   ]
  },
  {
   "cell_type": "markdown",
   "id": "06c02a29",
   "metadata": {},
   "source": []
  },
  {
   "cell_type": "markdown",
   "id": "507a265f",
   "metadata": {},
   "source": [
    "\n",
    "### Partie 4.2: Analyse temporelle\n",
    "\n",
    "Dans cette partie, il sera primodiale de faire un analyse temporelle pour voir si temporellement nous suivons le regard lorsque nous faisons une action avec le souris\n"
   ]
  },
  {
   "cell_type": "code",
   "execution_count": 39,
   "id": "352cfbd9",
   "metadata": {},
   "outputs": [
    {
     "name": "stdout",
     "output_type": "stream",
     "text": [
      "\n",
      "Durée d'activité pour le jeu de données CS2 :  {'début': '13h26', 'fin': '13h50', 'durée': '24 min 4 s'}\n",
      "\n",
      "Durée d'activité pour le jeu de données Flan :  {'début': '14h39', 'fin': '14h50', 'durée': '10 min 43 s'}\n",
      "\n",
      "Durée d'activité pour le jeu de données Corsi :  {'début': '14h33', 'fin': '14h37', 'durée': '4 min 17 s'}\n",
      "\n",
      "Durée d'activité pour le jeu de données Switching :  {'début': '14h51', 'fin': '14h58', 'durée': '7 min 40 s'}\n"
     ]
    }
   ],
   "source": [
    "def duree_activite_df(df):\n",
    "    if df.empty or 'timestamp' not in df.columns:\n",
    "        return \"DataFrame vide ou colonne 'timestamp' manquante.\"\n",
    "\n",
    "    if not pd.api.types.is_datetime64_any_dtype(df['timestamp']):\n",
    "        df['timestamp'] = pd.to_datetime(df['timestamp'])\n",
    "\n",
    "    debut = df['timestamp'].iloc[0]\n",
    "    fin = df['timestamp'].iloc[-1]\n",
    "    duree = fin - debut\n",
    "    total_seconds = int(duree.total_seconds())\n",
    "    minutes = total_seconds // 60\n",
    "    secondes = total_seconds % 60\n",
    "\n",
    "    return {\n",
    "        \"début\": debut.strftime(\"%Hh%M\"),\n",
    "        \"fin\": fin.strftime(\"%Hh%M\"),\n",
    "        \"durée\": f\"{minutes} min {secondes} s\"\n",
    "    }\n",
    "\n",
    "\n",
    "\n",
    "duree_cs2 = duree_activite_df(df_cs2)\n",
    "duree_flan = duree_activite_df(df_flan) \n",
    "duree_corsi = duree_activite_df(df_corsi)\n",
    "duree_switch = duree_activite_df(df_switch)\n",
    "\n",
    "print(\"\\nDurée d'activité pour le jeu de données CS2 : \", duree_cs2)\n",
    "print(\"\\nDurée d'activité pour le jeu de données Flan : \", duree_flan)\n",
    "print(\"\\nDurée d'activité pour le jeu de données Corsi : \", duree_corsi)\n",
    "print(\"\\nDurée d'activité pour le jeu de données Switching : \", duree_switch)      "
   ]
  },
  {
   "cell_type": "code",
   "execution_count": null,
   "id": "57ee914f",
   "metadata": {},
   "outputs": [
    {
     "name": "stdout",
     "output_type": "stream",
     "text": [
      "Collecting seaborn\n",
      "  Downloading seaborn-0.13.2-py3-none-any.whl.metadata (5.4 kB)\n",
      "Requirement already satisfied: numpy!=1.24.0,>=1.20 in c:\\users\\amaly\\appdata\\local\\programs\\python\\python313\\lib\\site-packages (from seaborn) (2.3.1)\n",
      "Requirement already satisfied: pandas>=1.2 in c:\\users\\amaly\\appdata\\local\\programs\\python\\python313\\lib\\site-packages (from seaborn) (2.3.1)\n",
      "Collecting matplotlib!=3.6.1,>=3.4 (from seaborn)\n",
      "  Downloading matplotlib-3.10.3-cp313-cp313-win_amd64.whl.metadata (11 kB)\n",
      "Collecting contourpy>=1.0.1 (from matplotlib!=3.6.1,>=3.4->seaborn)\n",
      "  Downloading contourpy-1.3.2-cp313-cp313-win_amd64.whl.metadata (5.5 kB)\n",
      "Collecting cycler>=0.10 (from matplotlib!=3.6.1,>=3.4->seaborn)\n",
      "  Downloading cycler-0.12.1-py3-none-any.whl.metadata (3.8 kB)\n",
      "Collecting fonttools>=4.22.0 (from matplotlib!=3.6.1,>=3.4->seaborn)\n",
      "  Downloading fonttools-4.58.5-cp313-cp313-win_amd64.whl.metadata (109 kB)\n",
      "Collecting kiwisolver>=1.3.1 (from matplotlib!=3.6.1,>=3.4->seaborn)\n",
      "  Downloading kiwisolver-1.4.8-cp313-cp313-win_amd64.whl.metadata (6.3 kB)\n",
      "Requirement already satisfied: packaging>=20.0 in c:\\users\\amaly\\appdata\\roaming\\python\\python313\\site-packages (from matplotlib!=3.6.1,>=3.4->seaborn) (25.0)\n",
      "Collecting pillow>=8 (from matplotlib!=3.6.1,>=3.4->seaborn)\n",
      "  Downloading pillow-11.3.0-cp313-cp313-win_amd64.whl.metadata (9.2 kB)\n",
      "Collecting pyparsing>=2.3.1 (from matplotlib!=3.6.1,>=3.4->seaborn)\n",
      "  Downloading pyparsing-3.2.3-py3-none-any.whl.metadata (5.0 kB)\n",
      "Requirement already satisfied: python-dateutil>=2.7 in c:\\users\\amaly\\appdata\\roaming\\python\\python313\\site-packages (from matplotlib!=3.6.1,>=3.4->seaborn) (2.9.0.post0)\n",
      "Requirement already satisfied: pytz>=2020.1 in c:\\users\\amaly\\appdata\\local\\programs\\python\\python313\\lib\\site-packages (from pandas>=1.2->seaborn) (2025.2)\n",
      "Requirement already satisfied: tzdata>=2022.7 in c:\\users\\amaly\\appdata\\local\\programs\\python\\python313\\lib\\site-packages (from pandas>=1.2->seaborn) (2025.2)\n",
      "Requirement already satisfied: six>=1.5 in c:\\users\\amaly\\appdata\\local\\programs\\python\\python313\\lib\\site-packages (from python-dateutil>=2.7->matplotlib!=3.6.1,>=3.4->seaborn) (1.17.0)\n",
      "Downloading seaborn-0.13.2-py3-none-any.whl (294 kB)\n",
      "Downloading matplotlib-3.10.3-cp313-cp313-win_amd64.whl (8.1 MB)\n",
      "   ---------------------------------------- 0.0/8.1 MB ? eta -:--:--\n",
      "   ------------------------------------- -- 7.6/8.1 MB 38.5 MB/s eta 0:00:01\n",
      "   ---------------------------------------- 8.1/8.1 MB 35.5 MB/s eta 0:00:00\n",
      "Downloading contourpy-1.3.2-cp313-cp313-win_amd64.whl (223 kB)\n",
      "Downloading cycler-0.12.1-py3-none-any.whl (8.3 kB)\n",
      "Downloading fonttools-4.58.5-cp313-cp313-win_amd64.whl (2.2 MB)\n",
      "   ---------------------------------------- 0.0/2.2 MB ? eta -:--:--\n",
      "   ---------------------------------------- 2.2/2.2 MB 31.2 MB/s eta 0:00:00\n",
      "Downloading kiwisolver-1.4.8-cp313-cp313-win_amd64.whl (71 kB)\n",
      "Downloading pillow-11.3.0-cp313-cp313-win_amd64.whl (7.0 MB)\n",
      "   ---------------------------------------- 0.0/7.0 MB ? eta -:--:--\n",
      "   ---------------------------------------- 7.0/7.0 MB 38.3 MB/s eta 0:00:00\n",
      "Downloading pyparsing-3.2.3-py3-none-any.whl (111 kB)\n",
      "Installing collected packages: pyparsing, pillow, kiwisolver, fonttools, cycler, contourpy, matplotlib, seaborn\n",
      "Successfully installed contourpy-1.3.2 cycler-0.12.1 fonttools-4.58.5 kiwisolver-1.4.8 matplotlib-3.10.3 pillow-11.3.0 pyparsing-3.2.3 seaborn-0.13.2\n",
      "Note: you may need to restart the kernel to use updated packages.\n"
     ]
    },
    {
     "name": "stderr",
     "output_type": "stream",
     "text": [
      "\n",
      "[notice] A new release of pip is available: 25.0.1 -> 25.1.1\n",
      "[notice] To update, run: python.exe -m pip install --upgrade pip\n"
     ]
    }
   ],
   "source": [
    "import pandas as pd\n",
    "import matplotlib.pyplot as plt\n",
    "\n",
    "\n",
    "move_data = df[df[\"action\"] == \"move\"].copy()\n",
    "\n",
    "# Compute time differences\n",
    "move_data[\"time_diff_sec\"] = move_data[\"timestamp\"].diff().dt.total_seconds()\n",
    "\n",
    "# Compute distances between points\n",
    "move_data[\"dx\"] = move_data[\"position\"].apply(lambda p: p[0]).diff()\n",
    "move_data[\"dy\"] = move_data[\"position\"].apply(lambda p: p[1]).diff()\n",
    "move_data[\"distance\"] = (move_data[\"dx\"]**2 + move_data[\"dy\"]**2)**0.5\n",
    "\n",
    "# Compute speed (pixels/second)\n",
    "move_data[\"speed\"] = move_data[\"distance\"] / move_data[\"time_diff_sec\"]\n",
    "\n",
    "# Plot speed over time\n",
    "plt.figure(figsize=(12, 6))\n",
    "plt.plot(move_data[\"timestamp\"], move_data[\"speed\"], label=\"Cursor Speed (px/s)\")\n",
    "plt.xlabel(\"Time\")\n",
    "plt.ylabel(\"Speed (pixels/second)\")\n",
    "plt.title(\"Temporal Analysis of Cursor Movement Speed\")\n",
    "plt.grid(True)\n",
    "plt.legend()\n",
    "plt.tight_layout()\n",
    "plt.show()\n",
    "\n"
   ]
  }
 ],
 "metadata": {
  "kernelspec": {
   "display_name": "Python 3",
   "language": "python",
   "name": "python3"
  },
  "language_info": {
   "codemirror_mode": {
    "name": "ipython",
    "version": 3
   },
   "file_extension": ".py",
   "mimetype": "text/x-python",
   "name": "python",
   "nbconvert_exporter": "python",
   "pygments_lexer": "ipython3",
   "version": "3.13.3"
  }
 },
 "nbformat": 4,
 "nbformat_minor": 5
}
